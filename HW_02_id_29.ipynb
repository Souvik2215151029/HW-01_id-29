{
  "nbformat": 4,
  "nbformat_minor": 0,
  "metadata": {
    "colab": {
      "provenance": [],
      "authorship_tag": "ABX9TyN7aQTL0TBoPw6ihOpkD/X4",
      "include_colab_link": true
    },
    "kernelspec": {
      "name": "python3",
      "display_name": "Python 3"
    },
    "language_info": {
      "name": "python"
    }
  },
  "cells": [
    {
      "cell_type": "markdown",
      "metadata": {
        "id": "view-in-github",
        "colab_type": "text"
      },
      "source": [
        "<a href=\"https://colab.research.google.com/github/Souvik2215151029/HW-01_id-29/blob/main/HW_02_id_29.ipynb\" target=\"_parent\"><img src=\"https://colab.research.google.com/assets/colab-badge.svg\" alt=\"Open In Colab\"/></a>"
      ]
    },
    {
      "cell_type": "code",
      "execution_count": 10,
      "metadata": {
        "colab": {
          "base_uri": "https://localhost:8080/"
        },
        "id": "dyVZjqTOponE",
        "outputId": "29eeda19-ab36-48ca-8b6f-327809f86b60"
      },
      "outputs": [
        {
          "output_type": "stream",
          "name": "stdout",
          "text": [
            "Seeded Random Matrix:\n",
            " [[10 37 16]\n",
            " [ 1 50 29]\n",
            " [26 30 49]]\n",
            "\n",
            "Non-Seeded Random Matrix:\n",
            " [[43  5 41]\n",
            " [18 21 14]\n",
            " [39 49 21]]\n"
          ]
        }
      ],
      "source": [
        "import numpy as np\n",
        "\n",
        "# With Seed\n",
        "np.random.seed(10)  # Setting seed to 10\n",
        "seeded_matrix = np.random.randint(1, 51, (3, 3))\n",
        "print(\"Seeded Random Matrix:\\n\", seeded_matrix)\n",
        "\n",
        "# Without Seed\n",
        "np.random.seed(None)  # No seed, generates different values each time\n",
        "non_seeded_matrix = np.random.randint(1, 51, (3, 3))\n",
        "print(\"\\nNon-Seeded Random Matrix:\\n\", non_seeded_matrix)"
      ]
    }
  ]
}